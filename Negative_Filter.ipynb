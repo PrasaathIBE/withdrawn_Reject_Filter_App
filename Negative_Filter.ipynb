{
 "cells": [
  {
   "cell_type": "code",
   "execution_count": 3,
   "id": "e410d8e4-814f-4a23-a20a-a77b37c18660",
   "metadata": {},
   "outputs": [
    {
     "name": "stdout",
     "output_type": "stream",
     "text": [
      "     Client_ID            Reference_No Live_Order_Status\n",
      "8      2019001  2025-07-KIT-COC-SC-194          Rejected\n",
      "10     2019006                  FA6519          Rejected\n",
      "19     2019006                  DT4790          Rejected\n",
      "21     2019006                  DT4790          Rejected\n",
      "25     2019006                  DT4713          Rejected\n",
      "..         ...                     ...               ...\n",
      "938    2019006                     NaN         Withdrawn\n",
      "948    2019006                     NaN          Rejected\n",
      "950    2019006                     NaN          Rejected\n",
      "962    2019006                     NaN         Withdrawn\n",
      "963    2019006                     NaN          Rejected\n",
      "\n",
      "[267 rows x 3 columns]\n"
     ]
    }
   ],
   "source": [
    "import pandas as pd\n",
    "\n",
    "# Load the Excel file\n",
    "xls = pd.ExcelFile(\"2019.xlsx\")  # Update path if needed\n",
    "data_df = xls.parse('data')\n",
    "\n",
    "# Filter rows where status is Withdrawn or Rejected\n",
    "filtered_df = data_df[\n",
    "    data_df['Live_Order_Status'].str.contains('Withdrawn|Rejected', case=False, na=False)\n",
    "]\n",
    "\n",
    "# Select required columns\n",
    "result_df = filtered_df[['Client_ID', 'Reference_No', 'Live_Order_Status']]\n",
    "\n",
    "# Display or export the result\n",
    "print(result_df)\n",
    "# Optionally save to a new file\n",
    "# result_df.to_excel(\"withdrawn_rejected_output.xlsx\", index=False)"
   ]
  },
  {
   "cell_type": "code",
   "execution_count": 6,
   "id": "7a8c9fd0-2af6-4ed5-8738-d0a15bd56313",
   "metadata": {},
   "outputs": [
    {
     "name": "stdout",
     "output_type": "stream",
     "text": [
      "     Client_ID Reference_No        Live_Order_Status\n",
      "10     2019006       FA6519                 Rejected\n",
      "12     2019006       DT4148  Client Need to Withdraw\n",
      "13     2019006       SP2894  Client Need to Withdraw\n",
      "14     2019006       BH2530  Client Need to Withdraw\n",
      "16     2019006       SP3044  Client Need to Withdraw\n",
      "..         ...          ...                      ...\n",
      "937    2019006      FA19429                Withdrawn\n",
      "945    2019006       DT4167  Client Need to Withdraw\n",
      "946    2019006      FA21623  Client Need to Withdraw\n",
      "947    2019006       DT4174  Client Need to Withdraw\n",
      "972    2019006       ZK2075  Client Need to Withdraw\n",
      "\n",
      "[442 rows x 3 columns]\n"
     ]
    }
   ],
   "source": [
    "import pandas as pd\n",
    "\n",
    "# Load the Excel file\n",
    "xls = pd.ExcelFile(\"2019.xlsx\")  # Adjust the filename if needed\n",
    "data_df = xls.parse('data')\n",
    "\n",
    "# Normalize status: strip spaces and convert to lowercase\n",
    "data_df['Live_Order_Status_cleaned'] = data_df['Live_Order_Status'].astype(str).str.strip().str.lower()\n",
    "\n",
    "# Define the keywords\n",
    "excluded_keywords = [\n",
    "    'under review (reviewer assigned by eic)',\n",
    "    'under review (reviewer assigned by our team)',\n",
    "    'wo full paper submitted',\n",
    "    'revised paper uploaded',\n",
    "    'revision received by author',\n",
    "    'submitted',\n",
    "    'paper sent back to author',\n",
    "    'po paper submitted',\n",
    "    'published',\n",
    "    'revised paper started preparing',\n",
    "    'acceptance received by author',\n",
    "    'comments started posting'\n",
    "]\n",
    "\n",
    "included_keywords = ['withdrawn', 'rejected', 'client need to withdraw']\n",
    "\n",
    "# Create sets for grouping\n",
    "excluded_set = set(excluded_keywords)\n",
    "included_set = set(included_keywords)\n",
    "\n",
    "# Group by Reference_No\n",
    "grouped = data_df.groupby('Reference_No')\n",
    "\n",
    "# Filter out only those Reference_Nos which have ONLY included keywords and no excluded ones\n",
    "valid_refs = []\n",
    "\n",
    "for ref_no, group in grouped:\n",
    "    statuses = set(group['Live_Order_Status_cleaned'].dropna())\n",
    "    if any(ek in status for ek in excluded_set for status in statuses):\n",
    "        continue  # Skip if any excluded keyword is found\n",
    "    if any(ik in status for ik in included_set for status in statuses):\n",
    "        valid_refs.append(ref_no)\n",
    "\n",
    "# Final filtered result\n",
    "filtered_df = data_df[data_df['Reference_No'].isin(valid_refs)][['Client_ID', 'Reference_No', 'Live_Order_Status']]\n",
    "print(filtered_df)\n",
    "# Optionally export\n",
    "filtered_df.to_excel(\"only_withdrawn_or_rejected_references.xlsx\", index=False)"
   ]
  },
  {
   "cell_type": "code",
   "execution_count": null,
   "id": "d928f062-45ce-42af-ad51-5980d3bf21a2",
   "metadata": {},
   "outputs": [],
   "source": []
  }
 ],
 "metadata": {
  "kernelspec": {
   "display_name": "Python 3 (ipykernel)",
   "language": "python",
   "name": "python3"
  },
  "language_info": {
   "codemirror_mode": {
    "name": "ipython",
    "version": 3
   },
   "file_extension": ".py",
   "mimetype": "text/x-python",
   "name": "python",
   "nbconvert_exporter": "python",
   "pygments_lexer": "ipython3",
   "version": "3.10.18"
  }
 },
 "nbformat": 4,
 "nbformat_minor": 5
}
